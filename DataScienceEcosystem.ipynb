{
 "cells": [
  {
   "cell_type": "markdown",
   "id": "702a043f",
   "metadata": {},
   "source": [
    "# **Outils et écosystème de la science des données**"
   ]
  },
  {
   "cell_type": "markdown",
   "id": "a18ee746",
   "metadata": {},
   "source": [
    "Dans ce notebook, les outils et l'écosystème de la science des données sont résumés."
   ]
  },
  {
   "cell_type": "markdown",
   "id": "d7e02cce",
   "metadata": {},
   "source": [
    "**Objectifs :**\n",
    "- Lister les langages populaires pour la science des données\n",
    "- Lister les bibliotheques de la science de données\n",
    "- Lister les outils de la science des données"
   ]
  },
  {
   "cell_type": "markdown",
   "id": "1080d459",
   "metadata": {},
   "source": [
    "Certains des langages populaires que les scientifiques des données utilisent sont :\n"
   ]
  },
  {
   "cell_type": "markdown",
   "id": "34848b3e",
   "metadata": {},
   "source": [
    "1. PYTHON\n",
    "2. SQL\n",
    "3. R"
   ]
  },
  {
   "cell_type": "markdown",
   "id": "8afa9c75",
   "metadata": {},
   "source": [
    "Certaines des bibliothèques couramment utilisées par les scientifiques des données incluent :\n"
   ]
  },
  {
   "cell_type": "markdown",
   "id": "23caed15",
   "metadata": {},
   "source": [
    "1. MATPLOTLIB\n",
    "2. PANDAS \n",
    "3. NUMPY\n"
   ]
  },
  {
   "cell_type": "markdown",
   "id": "12daeb7c",
   "metadata": {},
   "source": [
    "| Outils de la science des données. |\n",
    "| -------------|\n",
    "| JUPITERLAB  | \n",
    "| RSTUDIO | \n",
    "| VSCODE | "
   ]
  },
  {
   "cell_type": "markdown",
   "id": "9541ef5e",
   "metadata": {},
   "source": [
    " ### Voici quelques exemples d'évaluation d'expressions arithmétiques en Python"
   ]
  },
  {
   "cell_type": "code",
   "execution_count": null,
   "id": "e574d33f",
   "metadata": {},
   "outputs": [
    {
     "data": {
      "text/plain": [
       "17"
      ]
     },
     "execution_count": 4,
     "metadata": {},
     "output_type": "execute_result"
    }
   ],
   "source": [
    "# Ceci est une simple expression arithmétique pour multiplier puis additionner des entiers\n",
    "\n",
    "\n",
    "(3*4)+5"
   ]
  },
  {
   "cell_type": "code",
   "execution_count": 5,
   "id": "6806c7f0",
   "metadata": {},
   "outputs": [
    {
     "data": {
      "text/plain": [
       "3.3333333333333335"
      ]
     },
     "execution_count": 5,
     "metadata": {},
     "output_type": "execute_result"
    }
   ],
   "source": [
    "# Cela convertira 200 minutes en heures en divisant par 60\n",
    "\n",
    "200 / 60"
   ]
  },
  {
   "cell_type": "markdown",
   "id": "3fda66af",
   "metadata": {},
   "source": [
    "## Auteur\n",
    "GATSOUNDOU JUNIOR "
   ]
  }
 ],
 "metadata": {
  "kernelspec": {
   "display_name": "base",
   "language": "python",
   "name": "python3"
  },
  "language_info": {
   "codemirror_mode": {
    "name": "ipython",
    "version": 3
   },
   "file_extension": ".py",
   "mimetype": "text/x-python",
   "name": "python",
   "nbconvert_exporter": "python",
   "pygments_lexer": "ipython3",
   "version": "3.12.7"
  }
 },
 "nbformat": 4,
 "nbformat_minor": 5
}
