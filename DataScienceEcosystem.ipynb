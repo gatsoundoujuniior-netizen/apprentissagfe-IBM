{
 "cells": [
  {
   "cell_type": "markdown",
   "id": "702a043f",
   "metadata": {},
   "source": [
    "# **Tools and Ecosystem of Data Science**"
   ]
  },
  {
   "cell_type": "markdown",
   "id": "a18ee746",
   "metadata": {},
   "source": [
    "In this notebook, the tools and the ecosystem of data science are summarized."
   ]
  },
  {
   "cell_type": "markdown",
   "id": "d7e02cce",
   "metadata": {},
   "source": [
    "**Objectives :**\n",
    "- List the popular programming languages for data science\n",
    "\n",
    "- List the libraries for data science\n",
    "\n",
    "- List the tools for data science"
   ]
  },
  {
   "cell_type": "markdown",
   "id": "1080d459",
   "metadata": {},
   "source": [
    "Some of the popular languages that data scientists use are:"
   ]
  },
  {
   "cell_type": "markdown",
   "id": "34848b3e",
   "metadata": {},
   "source": [
    "1. PYTHON\n",
    "2. SQL\n",
    "3. R"
   ]
  },
  {
   "cell_type": "markdown",
   "id": "8afa9c75",
   "metadata": {},
   "source": [
    "Some of the libraries commonly used by data scientists include:"
   ]
  },
  {
   "cell_type": "markdown",
   "id": "23caed15",
   "metadata": {},
   "source": [
    "1. MATPLOTLIB\n",
    "2. PANDAS \n",
    "3. NUMPY\n"
   ]
  },
  {
   "cell_type": "markdown",
   "id": "12daeb7c",
   "metadata": {},
   "source": [
    "| Tools of Data science. |\n",
    "| -------------|\n",
    "| JUPITERLAB  | \n",
    "| RSTUDIO | \n",
    "| VSCODE | "
   ]
  },
  {
   "cell_type": "markdown",
   "id": "9541ef5e",
   "metadata": {},
   "source": [
    " ### Here are some examples of evaluating arithmetic expressions in Python"
   ]
  },
  {
   "cell_type": "code",
   "execution_count": 1,
   "id": "e574d33f",
   "metadata": {},
   "outputs": [
    {
     "data": {
      "text/plain": [
       "17"
      ]
     },
     "execution_count": 1,
     "metadata": {},
     "output_type": "execute_result"
    }
   ],
   "source": [
    "# This is a simple arithmetic expression to multiply and then add integers\n",
    "\n",
    "\n",
    "(3*4)+5"
   ]
  },
  {
   "cell_type": "code",
   "execution_count": 2,
   "id": "6806c7f0",
   "metadata": {},
   "outputs": [
    {
     "data": {
      "text/plain": [
       "3.3333333333333335"
      ]
     },
     "execution_count": 2,
     "metadata": {},
     "output_type": "execute_result"
    }
   ],
   "source": [
    "# This will convert 200 minutes into hours by dividing by 60\n",
    "\n",
    "200 / 60"
   ]
  },
  {
   "cell_type": "markdown",
   "id": "3fda66af",
   "metadata": {},
   "source": [
    "## Autor\n",
    "GATSOUNDOU JUNIOR "
   ]
  }
 ],
 "metadata": {
  "kernelspec": {
   "display_name": "Python 3",
   "language": "python",
   "name": "python3"
  },
  "language_info": {
   "codemirror_mode": {
    "name": "ipython",
    "version": 3
   },
   "file_extension": ".py",
   "mimetype": "text/x-python",
   "name": "python",
   "nbconvert_exporter": "python",
   "pygments_lexer": "ipython3",
   "version": "3.13.2"
  }
 },
 "nbformat": 4,
 "nbformat_minor": 5
}
